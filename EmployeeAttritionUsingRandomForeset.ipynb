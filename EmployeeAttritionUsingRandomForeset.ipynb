{
  "nbformat": 4,
  "nbformat_minor": 0,
  "metadata": {
    "colab": {
      "provenance": []
    },
    "kernelspec": {
      "name": "python3",
      "display_name": "Python 3"
    },
    "language_info": {
      "name": "python"
    }
  },
  "cells": [
    {
      "cell_type": "code",
      "execution_count": 1,
      "metadata": {
        "id": "pYECs9iPp4I3"
      },
      "outputs": [],
      "source": [
        "import pandas as pd\n",
        "import matplotlib.pyplot as plt\n",
        "import seaborn as sns\n",
        "from sklearn.ensemble import RandomForestClassifier\n",
        "from sklearn.model_selection import train_test_split\n",
        "from sklearn.preprocessing import LabelEncoder\n",
        "from sklearn.model_selection import GridSearchCV\n",
        "from sklearn.metrics import classification_report, accuracy_score, confusion_matrix, roc_curve, auc\n"
      ]
    },
    {
      "cell_type": "code",
      "source": [
        "# Load all datasets\n",
        "employee = pd.read_csv('/content/drive/MyDrive/HREmplyeeAttrition_Dataset/HR Employee data.csv')\n",
        "survey = pd.read_csv('/content/drive/MyDrive/HREmplyeeAttrition_Dataset/Employee_office_survey.csv')\n",
        "office = pd.read_csv('/content/drive/MyDrive/HREmplyeeAttrition_Dataset/Office_codes.csv')\n",
        "job_roles = pd.read_csv('/content/drive/MyDrive/HREmplyeeAttrition_Dataset/Job_position_structure.csv')"
      ],
      "metadata": {
        "id": "xl1D8DF8vbDy"
      },
      "execution_count": 2,
      "outputs": []
    },
    {
      "cell_type": "code",
      "source": [
        "# Aggregate Survey Data (Ratings)\n",
        "survey_agg = survey.groupby('emp_id').agg({\n",
        "    'rating': ['mean', 'min', 'max', 'std'],\n",
        "    'rated_year': 'count'\n",
        "}).reset_index()\n",
        "survey_agg.columns = ['EmployeeID', 'avg_rating', 'min_rating', 'max_rating', 'rating_std', 'num_years_rated']\n",
        "\n",
        "# Merge aggregated ratings into employee data\n",
        "df = employee.merge(survey_agg, on='EmployeeID', how='left')\n",
        "\n",
        "# Merge Officecodes Info\n",
        "df = df.merge(office, on='office_code', how='left')\n",
        "\n",
        "\n",
        "# Merge Job Roles\n",
        "df = df.merge(job_roles, left_on=['Department', 'JobLevel_updated'], right_on=['Department', 'JobLevel'], how='left')\n",
        "df.drop(['JobLevel'], axis=1, inplace=True)\n",
        "\n",
        "# Drop Unnecessary Columns\n",
        "drop_cols = ['EmployeeCount', 'StandardHours', 'Over18', 'EmployeeNumber', 'LeavingYear',\n",
        "             'Reason', 'RelievingStatus', 'office_code']\n",
        "df.drop(columns=drop_cols, errors='ignore', inplace=True)\n",
        "\n",
        "# Handle Missing Values\n",
        "df.fillna(df.median(numeric_only=True), inplace=True)\n",
        "\n",
        "# Encode Categorical Columns\n",
        "cat_cols = df.select_dtypes(include='object').columns.tolist()\n",
        "le = LabelEncoder()\n",
        "for col in cat_cols:\n",
        "    df[col] = le.fit_transform(df[col].astype(str))"
      ],
      "metadata": {
        "id": "UcmvmsBPvjgY"
      },
      "execution_count": 4,
      "outputs": []
    },
    {
      "cell_type": "code",
      "source": [
        "\n",
        "X = df.drop(columns=['Attrition'])\n",
        "y = df['Attrition'].apply(lambda x: 1 if x == 'Yes' else 0)\n",
        "\n",
        "X_train, X_test, y_train, y_test = train_test_split(X, y, test_size=0.3, random_state=42)\n"
      ],
      "metadata": {
        "id": "imuH9koEvxoA"
      },
      "execution_count": 5,
      "outputs": []
    },
    {
      "cell_type": "code",
      "source": [
        "# Define the parameter grid for RandomForest\n",
        "param_grid = {\n",
        "    'n_estimators': [50, 100, 200, 300],\n",
        "    'max_depth': [None, 10, 20, 30],\n",
        "    'min_samples_split': [2, 5, 10],\n",
        "    'min_samples_leaf': [1, 2, 4],\n",
        "    'max_features': ['sqrt', 'log2']\n",
        "}\n",
        "\n",
        "rf_model = RandomForestClassifier(random_state=42)\n",
        "grid_search = GridSearchCV(estimator=rf_model, param_grid=param_grid, cv=5, n_jobs=-1, verbose=2)\n",
        "grid_search.fit(X_train, y_train)\n",
        "\n",
        "print(\"Best Hyperparameters:\", grid_search.best_params_)\n",
        "\n"
      ],
      "metadata": {
        "colab": {
          "base_uri": "https://localhost:8080/"
        },
        "id": "7HrYofVlv7VW",
        "outputId": "dc17e45d-924e-4511-93dd-e3a32917b263"
      },
      "execution_count": 6,
      "outputs": [
        {
          "output_type": "stream",
          "name": "stdout",
          "text": [
            "Fitting 5 folds for each of 288 candidates, totalling 1440 fits\n",
            "Best Hyperparameters: {'max_depth': None, 'max_features': 'sqrt', 'min_samples_leaf': 1, 'min_samples_split': 2, 'n_estimators': 50}\n"
          ]
        }
      ]
    },
    {
      "cell_type": "code",
      "source": [
        "# Evaluate the model with the best hyperparameters\n",
        "best_model = grid_search.best_estimator_\n",
        "\n",
        "# Evaluate the model\n",
        "y_pred = best_model.predict(X_test)\n",
        "print(\"Accuracy:\", accuracy_score(y_test, y_pred))\n",
        "print(classification_report(y_test, y_pred))\n"
      ],
      "metadata": {
        "colab": {
          "base_uri": "https://localhost:8080/"
        },
        "id": "xGXObMbv2qv1",
        "outputId": "96e1484f-e6db-4081-f8b0-649db7e0c07c"
      },
      "execution_count": 7,
      "outputs": [
        {
          "output_type": "stream",
          "name": "stdout",
          "text": [
            "Accuracy: 1.0\n",
            "              precision    recall  f1-score   support\n",
            "\n",
            "           0       1.00      1.00      1.00      4027\n",
            "\n",
            "    accuracy                           1.00      4027\n",
            "   macro avg       1.00      1.00      1.00      4027\n",
            "weighted avg       1.00      1.00      1.00      4027\n",
            "\n"
          ]
        }
      ]
    },
    {
      "cell_type": "code",
      "source": [
        "from sklearn.model_selection import cross_val_score\n",
        "\n",
        "# Perform 5-fold cross-validation on the model\n",
        "cv_scores = cross_val_score(best_model, X, y, cv=5, scoring='accuracy')\n",
        "\n",
        "# Print the cross-validation scores\n",
        "print(\"Cross-validation scores:\", cv_scores)\n",
        "print(\"Average cross-validation score:\", cv_scores.mean())"
      ],
      "metadata": {
        "colab": {
          "base_uri": "https://localhost:8080/"
        },
        "id": "ApSBCwI0vBTW",
        "outputId": "fccc0699-6807-4260-fee6-fb825c0a120e"
      },
      "execution_count": 8,
      "outputs": [
        {
          "output_type": "stream",
          "name": "stdout",
          "text": [
            "Cross-validation scores: [1. 1. 1. 1. 1.]\n",
            "Average cross-validation score: 1.0\n"
          ]
        }
      ]
    },
    {
      "cell_type": "code",
      "source": [
        "#how many employees leave or not\n",
        "sns.countplot(data=df, x='Attrition')"
      ],
      "metadata": {
        "colab": {
          "base_uri": "https://localhost:8080/",
          "height": 466
        },
        "id": "xiMXqA08v_2J",
        "outputId": "f2575b8a-09c9-406a-ca7a-b7a03d996957"
      },
      "execution_count": 9,
      "outputs": [
        {
          "output_type": "execute_result",
          "data": {
            "text/plain": [
              "<Axes: xlabel='Attrition', ylabel='count'>"
            ]
          },
          "metadata": {},
          "execution_count": 9
        },
        {
          "output_type": "display_data",
          "data": {
            "text/plain": [
              "<Figure size 640x480 with 1 Axes>"
            ],
            "image/png": "[encoded data removed]"
          },
          "metadata": {}
        }
      ]
    },
    {
      "cell_type": "code",
      "source": [
        "sns.boxplot(x='Attrition', y='avg_rating', data=df)\n"
      ],
      "metadata": {
        "colab": {
          "base_uri": "https://localhost:8080/",
          "height": 466
        },
        "id": "RDIDT69w9J7Q",
        "outputId": "3b9d3612-c685-4701-9f16-c64081655696"
      },
      "execution_count": 10,
      "outputs": [
        {
          "output_type": "execute_result",
          "data": {
            "text/plain": [
              "<Axes: xlabel='Attrition', ylabel='avg_rating'>"
            ]
          },
          "metadata": {},
          "execution_count": 10
        },
        {
          "output_type": "display_data",
          "data": {
            "text/plain": [
              "<Figure size 640x480 with 1 Axes>"
            ],
            "image/png": "[encoded data removed]"
          },
          "metadata": {}
        }
      ]
    }
  ]
}